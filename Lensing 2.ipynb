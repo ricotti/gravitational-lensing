{
 "cells": [
  {
   "cell_type": "code",
   "execution_count": 1,
   "id": "7b2e24ba",
   "metadata": {},
   "outputs": [
    {
     "name": "stdout",
     "output_type": "stream",
     "text": [
      "/Users/seyongpark/Projects/gravitational-lensing\n",
      "Working Directory has been set to `/Users/seyongpark/Projects/gravitational-lensing`\n"
     ]
    }
   ],
   "source": [
    "from os import path\n",
    "from pyprojroot import here\n",
    "workspace_path = '/Users/seyongpark/Projects/gravitational-lensing'\n",
    "%cd $workspace_path\n",
    "print(f\"Working Directory has been set to `{workspace_path}`\")\n",
    "\n",
    "import autolens as al\n",
    "import autolens.plot as aplt\n",
    "import matplotlib.pylab as plt\n",
    "from astropy.cosmology import FlatLambdaCDM\n",
    "import numpy as np\n",
    "import shapely\n",
    "from shapely import Polygon, Point, points\n",
    "from shapely.prepared import prep\n",
    "from scipy import ndimage\n",
    "from tqdm.contrib.concurrent import thread_map"
   ]
  },
  {
   "cell_type": "code",
   "execution_count": 3,
   "id": "e4c1dcb8",
   "metadata": {},
   "outputs": [],
   "source": [
    "\n",
    "def transform_image(image,angle,center,scale):\n",
    "    pixel_shift = np.array([center[0],center[1]])/scale\n",
    "    transformed_image = image.native\n",
    "    transformed_image = ndimage.rotate(transformed_image,angle,order=0,reshape=False)\n",
    "    transformed_image = ndimage.shift(transformed_image,pixel_shift,order=0)    \n",
    "    # return al.Array2D.no_mask(transformed_image,pixel_scales=scale)\n",
    "    return transformed_image\n",
    "\n",
    "def plot_image(image,center,fov,ax,title,**kwargs):\n",
    "    #ax.contourf(X+0.02187,Y+7.52,magnif.native,levels=[70,100000],zorder=10)\n",
    "    x_center = center[1]\n",
    "    y_center = center[0]\n",
    "    im = ax.imshow(\n",
    "    np.log10(\n",
    "        image,\n",
    "        where=(image != 0),\n",
    "        out=np.full_like(image, -15),\n",
    "    )+6,\n",
    "    extent=[\n",
    "         x_center - fov / 2,\n",
    "         x_center + fov / 2,\n",
    "         y_center - fov / 2,\n",
    "         y_center + fov / 2,\n",
    "     ],\n",
    "    cmap=\"inferno\",\n",
    "    vmin=-5,\n",
    "    vmax=-1,\n",
    "    **kwargs)\n",
    "    ax.set(\n",
    "    xlabel=\"arcsec\", ylabel=\"arcsec\"\n",
    "    )\n",
    "    # ax.set(xlabel='arcsec ({:.2f} \" / pixel)'.format(detector_arcsec_per_pxl), ylabel=\"arcsec\")\n",
    "    ax.set_facecolor(\"black\")\n",
    "    ax.set_title(title)\n",
    "    return im"
   ]
  },
  {
   "cell_type": "markdown",
   "id": "6348a997",
   "metadata": {},
   "source": [
    "## Source Image"
   ]
  },
  {
   "cell_type": "code",
   "execution_count": 4,
   "id": "bbdd3e42",
   "metadata": {},
   "outputs": [],
   "source": [
    "image_path = path.join(\"new2.fits\")\n",
    "\n",
    "zoom = 1\n",
    "\n",
    "# read in source image data\n",
    "galaxy_image = al.Array2D.from_fits(\n",
    "    file_path=image_path,\n",
    "    pixel_scales=0.0001*zoom,\n",
    ")\n",
    "galaxy_image_native = galaxy_image.native\n",
    "\n",
    "source_center = (-7.521, 0.022)\n",
    "#source_center = (-7.8,0.3)\n",
    "source_pix = galaxy_image.shape_native[0]\n",
    "source_fov = source_pix*galaxy_image.pixel_scale\n",
    "\n",
    "# define source plane\n",
    "source_plane = al.Grid2D.uniform(\n",
    "    shape_native=galaxy_image.shape_native,\n",
    "    pixel_scales=galaxy_image.pixel_scale,\n",
    "    origin=source_center\n",
    ")\n",
    "source_plane_native = source_plane.native\n",
    "source_y_range = [source_center[0]-source_fov/2,source_center[0]+source_fov/2]\n",
    "source_x_range = [source_center[1]-source_fov/2,source_center[1]+source_fov/2]\n",
    "\n",
    "source_plane_box = Polygon(([source_x_range[0],source_y_range[0]],[source_x_range[1],source_y_range[0]],\n",
    "                            [source_x_range[1],source_y_range[1]],[source_x_range[0],source_y_range[1]]))\n",
    "\n",
    "galaxy_image_grid = np.stack((source_plane.native[:,:,0],source_plane.native[:,:,1],galaxy_image.native))\n",
    "galaxy_image_grid = np.swapaxes(galaxy_image_grid,0,2)\n",
    "galaxy_image_grid = np.swapaxes(galaxy_image_grid,0,1)"
   ]
  },
  {
   "cell_type": "code",
   "execution_count": 4,
   "id": "11c8babe",
   "metadata": {},
   "outputs": [
    {
     "data": {
      "text/plain": [
       "(1000, 1000, 2)"
      ]
     },
     "execution_count": 4,
     "metadata": {},
     "output_type": "execute_result"
    }
   ],
   "source": [
    "source_plane.native.shape"
   ]
  },
  {
   "cell_type": "markdown",
   "id": "591b10eb",
   "metadata": {},
   "source": [
    "## Image Plane"
   ]
  },
  {
   "cell_type": "code",
   "execution_count": 5,
   "id": "ae3fac2d",
   "metadata": {},
   "outputs": [],
   "source": [
    "image_center = (-29.2,25)\n",
    "detector_arcsec_per_pxl = 0.03\n",
    "reco_image_fov = 20  # arcsec on one side\n",
    "image_pix = int(reco_image_fov / detector_arcsec_per_pxl)\n",
    "\n",
    "image_plane_centers = al.Grid2D.uniform(\n",
    "    shape_native=(image_pix, image_pix),\n",
    "    pixel_scales=detector_arcsec_per_pxl,\n",
    "    origin=image_center\n",
    ")\n",
    "\n",
    "image_plane_corners = al.Grid2D.uniform(\n",
    "    shape_native=(image_pix+1, image_pix+1),\n",
    "    pixel_scales=detector_arcsec_per_pxl,\n",
    "    origin=image_center\n",
    ")"
   ]
  },
  {
   "cell_type": "markdown",
   "id": "d3a7794a",
   "metadata": {},
   "source": [
    "## Ray Tracing"
   ]
  },
  {
   "cell_type": "code",
   "execution_count": 6,
   "id": "46d129ab",
   "metadata": {},
   "outputs": [],
   "source": [
    "# compute scaling ratio for deflection angles\n",
    "cosmo = FlatLambdaCDM(H0=70, Om0=0.3)\n",
    "\n",
    "D_ds = cosmo.angular_diameter_distance_z1z2(0.566,6.2) # distance from source to lens\n",
    "D_s = cosmo.angular_diameter_distance_z1z2(0,6.2) # distance to source\n",
    "ratio = D_ds/D_s\n",
    "\n",
    "# paths for deflection data\n",
    "x_path = path.join(\"glafic-model\",\"hlsp_relics_model_model_whl0137-08_glafic_v1_x-arcsec-deflect.fits\")\n",
    "y_path = path.join(\"glafic-model\",\"hlsp_relics_model_model_whl0137-08_glafic_v1_y-arcsec-deflect.fits\")\n",
    "\n",
    "scale = 0.1 # computed from comparing pixel and arcsec files\n",
    "\n",
    "# read in deflection data\n",
    "deflections_y = al.Array2D.from_fits(\n",
    "    file_path=y_path,\n",
    "    pixel_scales=scale,\n",
    ")\n",
    "deflections_x = al.Array2D.from_fits(\n",
    "    file_path=x_path,\n",
    "    pixel_scales=scale,\n",
    ")\n",
    "\n",
    "# scale deflection angles to account for redshift\n",
    "deflections_y = al.Array2D.no_mask(ratio*deflections_y.native,\n",
    "                                   pixel_scales = scale)\n",
    "deflections_x = al.Array2D.no_mask(ratio*deflections_x.native,\n",
    "                                   pixel_scales = scale)\n",
    "\n",
    "# construct mass profile using deflections\n",
    "deflections_plane_grid_2d = al.Grid2D.uniform(\n",
    "    shape_native=deflections_y.shape_native,\n",
    "    pixel_scales=scale,  # The pixel-scale describes the conversion from pixel units to arc-seconds\n",
    ")\n",
    "input_deflections = al.mp.InputDeflections(\n",
    "    deflections_y=deflections_y,\n",
    "    deflections_x=deflections_x,\n",
    "    image_plane_grid=deflections_plane_grid_2d\n",
    ")"
   ]
  },
  {
   "cell_type": "code",
   "execution_count": 5,
   "id": "138efc4e",
   "metadata": {},
   "outputs": [
    {
     "data": {
      "text/plain": [
       "(1200, 1200)"
      ]
     },
     "execution_count": 5,
     "metadata": {},
     "output_type": "execute_result"
    }
   ],
   "source": [
    "deflections_y.native.shape"
   ]
  },
  {
   "cell_type": "code",
   "execution_count": 7,
   "id": "b76654b2",
   "metadata": {},
   "outputs": [],
   "source": [
    "# define lens, source and tracer\n",
    "lens_galaxy = al.Galaxy(redshift=0.566, mass=input_deflections)\n",
    "source_galaxy = al.Galaxy(redshift=6.2)\n",
    "tracer = al.Tracer.from_galaxies(galaxies=[lens_galaxy, source_galaxy])\n",
    "\n",
    "# trace image plane to source plane\n",
    "traced_image_plane_corners = tracer.traced_grid_2d_list_from(grid=image_plane_corners)[1]\n",
    "traced_image_plane_corners_native = traced_image_plane_corners.native"
   ]
  },
  {
   "cell_type": "code",
   "execution_count": 21,
   "id": "b56f79f3",
   "metadata": {},
   "outputs": [],
   "source": [
    "galaxy_center = (-0.005,0.005)\n",
    "#galaxy_center = (0,0)\n",
    "galaxy_angle = -70\n",
    "\n",
    "# rotate and shift image\n",
    "transformed_galaxy = transform_image(galaxy_image, galaxy_angle, galaxy_center, galaxy_image.pixel_scale)"
   ]
  },
  {
   "cell_type": "code",
   "execution_count": 22,
   "id": "efe0a918",
   "metadata": {},
   "outputs": [
    {
     "data": {
      "text/plain": [
       "<matplotlib.image.AxesImage at 0x15c3694c0>"
      ]
     },
     "execution_count": 22,
     "metadata": {},
     "output_type": "execute_result"
    },
    {
     "data": {
      "image/png": "[encoded data removed]",
      "text/plain": [
       "<Figure size 640x480 with 1 Axes>"
      ]
     },
     "metadata": {},
     "output_type": "display_data"
    }
   ],
   "source": [
    "fig, ax = plt.subplots()\n",
    "plot_image(transformed_galaxy, source_center, source_fov, ax, \"Source Plane\")"
   ]
  },
  {
   "cell_type": "code",
   "execution_count": 23,
   "id": "735c63a3",
   "metadata": {},
   "outputs": [],
   "source": [
    "from itertools import product\n",
    "import multiprocess as mp\n",
    "\n",
    "y = source_plane.native[:,0,0]\n",
    "x = source_plane.native[0,:,1]\n",
    "\n",
    "def luminosity(index):\n",
    "    i, j = index\n",
    "    top_left = traced_image_plane_corners_native[i,j]\n",
    "    top_right = traced_image_plane_corners_native[i+1,j]\n",
    "    bottom_right = traced_image_plane_corners_native[i+1,j+1]\n",
    "    bottom_left = traced_image_plane_corners_native[i,j+1]\n",
    "\n",
    "    vertices = [top_left,top_right,bottom_right,bottom_left]\n",
    "\n",
    "    traced_pixel = prep(Polygon(vertices))\n",
    "\n",
    "    # compute bounding box\n",
    "    x_min = min([v[1] for v in vertices])\n",
    "    y_min = min([v[0] for v in vertices])\n",
    "    x_max = max([v[1] for v in vertices])\n",
    "    y_max = max([v[0] for v in vertices])\n",
    "\n",
    "    y_index_range = [np.where(y-y_max > 0, y-y_max, np.inf).argmin(),np.where(y_min-y > 0, y_min-y, np.inf).argmin()]\n",
    "    x_index_range = [np.where(x_min-x > 0, x_min-x, np.inf).argmin(),np.where(x-x_max > 0, x-x_max, np.inf).argmin()]\n",
    "\n",
    "    image_slice = transformed_galaxy[y_index_range[0]:y_index_range[1]+1,x_index_range[0]:x_index_range[1]+1]\n",
    "    if image_slice.size == 0:\n",
    "        return 0\n",
    "    else:\n",
    "        source_plane_slice = source_plane_native[y_index_range[0]:y_index_range[1]+1,x_index_range[0]:x_index_range[1]+1]\n",
    "        source_points = np.stack((source_plane_slice[:,:,0],source_plane_slice[:,:,1],image_slice))\n",
    "        source_points = np.swapaxes(source_points,0,2)\n",
    "        source_points = np.swapaxes(source_points,0,1)\n",
    "        source_points = shapely.points(np.concatenate(source_points))\n",
    "\n",
    "        source_pixels = []\n",
    "        source_pixels.extend(filter(traced_pixel.contains,source_points))\n",
    "        if len(source_pixels) == 0:\n",
    "            return 0\n",
    "        else:\n",
    "            return np.mean([p.z for p in source_pixels])"
   ]
  },
  {
   "cell_type": "code",
   "execution_count": 24,
   "id": "9a047f3b",
   "metadata": {},
   "outputs": [],
   "source": [
    "nonempty_pixels = []\n",
    "for i in range(image_pix):\n",
    "    for j in range(image_pix):\n",
    "        top_left = traced_image_plane_corners_native[i,j]\n",
    "        if (top_left[0] < source_y_range[1]) and (top_left[0] > source_y_range[0]) and (top_left[1] < source_x_range[1]) and (top_left[1] > source_x_range[0]):\n",
    "            nonempty_pixels.append((i,j))\n",
    "            \n",
    "p = mp.Pool()\n",
    "image = np.zeros((image_pix,image_pix))\n",
    "res = p.map(luminosity,nonempty_pixels)\n",
    "\n",
    "for i,p in enumerate(nonempty_pixels):\n",
    "    image[p] = res[i]"
   ]
  },
  {
   "cell_type": "code",
   "execution_count": 25,
   "id": "654518b1",
   "metadata": {},
   "outputs": [
    {
     "data": {
      "text/plain": [
       "<matplotlib.image.AxesImage at 0x14a10a040>"
      ]
     },
     "execution_count": 25,
     "metadata": {},
     "output_type": "execute_result"
    },
    {
     "data": {
      "image/png": "[encoded data removed]",
      "text/plain": [
       "<Figure size 1600x900 with 1 Axes>"
      ]
     },
     "metadata": {},
     "output_type": "display_data"
    }
   ],
   "source": [
    "from astropy.convolution import convolve, AiryDisk2DKernel\n",
    "\n",
    "air_pix = 0.05/detector_arcsec_per_pxl\n",
    "convolved_image = convolve(image, AiryDisk2DKernel(air_pix),fill_value=0,nan_treatment='fill')\n",
    "fig, ax = plt.subplots(1, 1, figsize=(16, 9))\n",
    "plot_image(convolved_image,image_center,reco_image_fov,ax,\"Lensed Image\")\n",
    "# ax.set_xlim([22.5,27.5])\n",
    "# ax.set_ylim([-32.5,-27.5])"
   ]
  },
  {
   "cell_type": "code",
   "execution_count": 7,
   "id": "b44f1727",
   "metadata": {},
   "outputs": [
    {
     "name": "stdout",
     "output_type": "stream",
     "text": [
      "CPU times: user 15.4 ms, sys: 3.83 ms, total: 19.3 ms\n",
      "Wall time: 20.5 ms\n"
     ]
    }
   ],
   "source": [
    "%%time\n",
    "i,j = 200,200\n",
    "\n",
    "top_left = traced_image_plane_corners_native[i,j]\n",
    "\n",
    "y = source_plane_native[:,0,0]\n",
    "x = source_plane_native[0,:,1]\n",
    "\n",
    "if not source_plane_box.contains(Point(top_left[1],top_left[0])): \n",
    "    luminosity = 0 \n",
    "else:\n",
    "    top_right = traced_image_plane_corners_native[i+1,j]\n",
    "    bottom_right = traced_image_plane_corners_native[i+1,j+1]\n",
    "    bottom_left = traced_image_plane_corners_native[i,j+1]\n",
    "\n",
    "    vertices = [top_left,top_right,bottom_right,bottom_left]\n",
    "\n",
    "    traced_pixel = prep(Polygon(vertices))\n",
    "\n",
    "    # compute bounding box\n",
    "    x_min = min([v[1] for v in vertices])\n",
    "    y_min = min([v[0] for v in vertices])\n",
    "    x_max = max([v[1] for v in vertices])\n",
    "    y_max = max([v[0] for v in vertices])\n",
    "    bounding_box = Polygon(([x_min,y_min],[x_min,y_max],[x_max,y_max],[x_max,y_min]))\n",
    "\n",
    "    y_index_range = [np.where(y-y_max > 0, y-y_max, np.inf).argmin(),np.where(y_min-y > 0, y_min-y, np.inf).argmin()]\n",
    "    x_index_range = [np.where(x_min-x > 0, x_min-x, np.inf).argmin(),np.where(x-x_max > 0, x-x_max, np.inf).argmin()]\n",
    "\n",
    "    image_slice = galaxy_image_native[y_index_range[0]:y_index_range[1]+1,x_index_range[0]:x_index_range[1]+1]\n",
    "    source_plane_slice = source_plane_native[y_index_range[0]:y_index_range[1]+1,x_index_range[0]:x_index_range[1]+1]\n",
    "    source_points = np.stack((source_plane_slice[:,:,0],source_plane_slice[:,:,1],image_slice))\n",
    "    if source_points.size == 0:\n",
    "        luminosity = 0\n",
    "    else:\n",
    "        source_points = np.swapaxes(source_points,0,2)\n",
    "        source_points = shapely.points(np.concatenate(source_points))\n",
    "\n",
    "        source_pixels = []\n",
    "        source_pixels.extend(filter(traced_pixel.contains,source_points))\n",
    "        luminosity = 0 if len(source_pixels) == 0 else np.mean([p.z for p in source_pixels])"
   ]
  }
 ],
 "metadata": {
  "kernelspec": {
   "display_name": "autolens",
   "language": "python",
   "name": "python3"
  },
  "language_info": {
   "codemirror_mode": {
    "name": "ipython",
    "version": 3
   },
   "file_extension": ".py",
   "mimetype": "text/x-python",
   "name": "python",
   "nbconvert_exporter": "python",
   "pygments_lexer": "ipython3",
   "version": "3.9.16"
  }
 },
 "nbformat": 4,
 "nbformat_minor": 5
}
